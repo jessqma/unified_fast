{
 "cells": [
  {
   "cell_type": "code",
   "id": "initial_id",
   "metadata": {
    "collapsed": true,
    "ExecuteTime": {
     "end_time": "2025-02-10T17:59:34.342758Z",
     "start_time": "2025-02-10T17:59:33.920406Z"
    }
   },
   "source": [
    "import os\n",
    "import pandas as pd"
   ],
   "outputs": [],
   "execution_count": 2
  },
  {
   "metadata": {
    "ExecuteTime": {
     "end_time": "2025-02-10T17:59:34.690823Z",
     "start_time": "2025-02-10T17:59:34.686036Z"
    }
   },
   "cell_type": "code",
   "source": "files = [_ for _ in os.listdir() if _[-4:]==\".csv\"]",
   "id": "2b773481adffb09b",
   "outputs": [],
   "execution_count": 3
  },
  {
   "metadata": {
    "ExecuteTime": {
     "end_time": "2025-02-10T18:08:51.776594Z",
     "start_time": "2025-02-10T18:08:51.762463Z"
    }
   },
   "cell_type": "code",
   "source": "files",
   "id": "c4f74b4cd5d09d2e",
   "outputs": [
    {
     "data": {
      "text/plain": [
       "['actin_alphafold_noh_Av10_bare_dnn_A_GE_GT.csv',\n",
       " 'actin_alphafold_noh_Ad_v4_opt_dnn_A_GE_GT.csv',\n",
       " 'actin_alphafold_noh_Alv1_opt_cam_dnn_A_GE_GT.csv',\n",
       " 'actin_alphafold_noh_Alv1_opt_dnn_A_GE_GT.csv',\n",
       " 'actin_alphafold_noh_Aracv4_opt_dnn_A_GE_GT.csv',\n",
       " 'actin_alphafold_noh_Al_v4_opt_dnn_A_GE_GT.csv',\n",
       " 'actin_alphafold_noh_Adv1_opt_cam_dnn_A_GE_GT.csv',\n",
       " 'actin_alphafold_noh_Arac_v0_opt_dnn_A_GE_GT.csv',\n",
       " 'actin_alphafold_noh_Arac_v0_opt_H_dnn_A_GE_GT.csv',\n",
       " 'actin_alphafold_noh_Adv1_opt_dnn_A_GE_GT.csv']"
      ]
     },
     "execution_count": 21,
     "metadata": {},
     "output_type": "execute_result"
    }
   ],
   "execution_count": 21
  },
  {
   "metadata": {
    "ExecuteTime": {
     "end_time": "2025-02-10T20:30:24.330815Z",
     "start_time": "2025-02-10T20:30:24.324728Z"
    }
   },
   "cell_type": "code",
   "source": "file = files[2]",
   "id": "ad59b479ceb8d065",
   "outputs": [],
   "execution_count": 40
  },
  {
   "metadata": {
    "ExecuteTime": {
     "end_time": "2025-02-10T20:30:24.788951Z",
     "start_time": "2025-02-10T20:30:24.774520Z"
    }
   },
   "cell_type": "code",
   "source": [
    "print(file)\n",
    "\n",
    "ints = pd.read_csv(file, header=None)\n",
    "str_all = ''\n",
    "for i in ints[0]:\n",
    "    if i==ints[0].to_numpy()[-1]:\n",
    "        str_all = str_all + str(int(i))\n",
    "    else:\n",
    "        str_all = str_all + str(int(i)) + '+'\n",
    "print(str_all)"
   ],
   "id": "c8e893e2d3298f78",
   "outputs": [
    {
     "name": "stdout",
     "output_type": "stream",
     "text": [
      "actin_alphafold_noh_Alv1_opt_cam_dnn_A_GE_GT.csv\n",
      "1+2+3+4+42+43+44+45+46+47+48+49+63+243+244+270+322+323+324+351+360+365+366\n"
     ]
    }
   ],
   "execution_count": 41
  },
  {
   "metadata": {
    "ExecuteTime": {
     "end_time": "2025-02-10T18:16:28.336896Z",
     "start_time": "2025-02-10T18:16:28.328734Z"
    }
   },
   "cell_type": "code",
   "source": "print(str_all)",
   "id": "ad5136880ed1e65",
   "outputs": [
    {
     "name": "stdout",
     "output_type": "stream",
     "text": [
      "1+2+3+4+42+43+44+45+46+47+48+49+63+243+244+270+322+323+324+351+360+365+366\n"
     ]
    }
   ],
   "execution_count": 31
  },
  {
   "metadata": {},
   "cell_type": "code",
   "outputs": [],
   "execution_count": null,
   "source": "",
   "id": "a541a1ccc7d6c4aa"
  }
 ],
 "metadata": {
  "kernelspec": {
   "display_name": "Python 3",
   "language": "python",
   "name": "python3"
  },
  "language_info": {
   "codemirror_mode": {
    "name": "ipython",
    "version": 2
   },
   "file_extension": ".py",
   "mimetype": "text/x-python",
   "name": "python",
   "nbconvert_exporter": "python",
   "pygments_lexer": "ipython2",
   "version": "2.7.6"
  }
 },
 "nbformat": 4,
 "nbformat_minor": 5
}
